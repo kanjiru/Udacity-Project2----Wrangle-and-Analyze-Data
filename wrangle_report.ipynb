{
 "cells": [
  {
   "cell_type": "markdown",
   "metadata": {},
   "source": [
    "## Reporting: wragle_report\n"
   ]
  },
  {
   "cell_type": "markdown",
   "metadata": {},
   "source": [
    "Report\n",
    "The data wrangling process has undergone the stages of data gathering, assessment, cleaning and visualization.\n",
    "The data has been gathered from different sources as provided and instructed on the project’s page on the Udacity platform. 3 datasets have been collected namely tweet_api, twitter_archive_df, and predictions.\n",
    "\n",
    "The tweet_api dataset was obtained using the Twitter API platform and the rest was obtained programmatically as provided for by the URLs. Data assessment was directed by the data analysis rules in regard to quality and tidiness issues. Python methods and functions were utilized to programmatically and visually assess the data e.g. . head(),  .info(), .describe()\n",
    "The data were combined into a master data frame called maser_df for further analysis and to avoid duplication of data.\n",
    "Various quality and tidiness issues were identified. In summary they include but not limited to : - \n",
    "> retweeted_status_id, retweeted_status_user_id, retweeted_status_timestamp columns are not need anymore <br>\n",
    "> We  will melt 'doggo', 'floofer', 'pupper' and 'puppo' columns into one column '<br>\n",
    "> We shall drop the following columns 'in_reply_to_status_id', 'in_reply_to_user_id', 'user_favourites'<br>\n",
    "> Delete the columns of image prediction information that are not neccesary<br>\n",
    "> Let rating_denominator to be 10 for all entries. Hence, because all the entries have only one value 10, then drop this varible.<br>\n",
    "> In tw_arc name 'a' and None change to NaN<br>\n",
    "> Drop img_num from prediction table<br>\n",
    "> Drop expanded_urls<br>\n",
    "\n",
    "For the cleaning of the data non-useful observations were dropped and some columns were also combined or melted for analysis. \n",
    "It was also noted that some observations had inaccurate ratings and were also dropped in the process.\n",
    "The cleaned data and extracted data were also stored in the project workspace to avoid utilizing too much time and compute resources and to easily make a reference to original data that will not have been tampered with.\n",
    "\n",
    "Finally, the data was visualized with a scatter plot to easily draw out conclusions and communicate the findings in an easier way.\n"
   ]
  },
  {
   "cell_type": "code",
   "execution_count": null,
   "metadata": {},
   "outputs": [],
   "source": []
  }
 ],
 "metadata": {
  "kernelspec": {
   "display_name": "Python 3",
   "language": "python",
   "name": "python3"
  },
  "language_info": {
   "codemirror_mode": {
    "name": "ipython",
    "version": 3
   },
   "file_extension": ".py",
   "mimetype": "text/x-python",
   "name": "python",
   "nbconvert_exporter": "python",
   "pygments_lexer": "ipython3",
   "version": "3.6.3"
  }
 },
 "nbformat": 4,
 "nbformat_minor": 2
}
